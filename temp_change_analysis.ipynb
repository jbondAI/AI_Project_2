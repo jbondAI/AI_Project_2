{
 "cells": [
  {
   "cell_type": "code",
   "execution_count": 77,
   "metadata": {},
   "outputs": [],
   "source": [
    "import pandas as pd\n",
    "# Added to show all columns in df display\n",
    "pd.options.display.max_columns = None \n",
    "# Load datasets\n",
    "co2_data = pd.read_csv('C:/Users/ellio/Bootcamp_AI/Projects/emissions/csvs/Co2_concentration.csv')\n",
    "temperature_data = pd.read_csv(\"C:/Users/ellio/Bootcamp_AI/Projects/emissions/csvs/monthly_temp_anomaly.csv\")\n",
    "#sea_temp_data = pd.read_csv(\"C:/Users/ellio/Bootcamp_AI/Projects/emissions/csvs/sea_temp_anomaly.csv\")"
   ]
  },
  {
   "cell_type": "markdown",
   "metadata": {},
   "source": [
    "### inspecting the datasets:"
   ]
  },
  {
   "cell_type": "code",
   "execution_count": 78,
   "metadata": {},
   "outputs": [
    {
     "name": "stdout",
     "output_type": "stream",
     "text": [
      "CO2 Data Shape: (8262, 25)\n"
     ]
    }
   ],
   "source": [
    "print(\"CO2 Data Shape:\", co2_data.shape)"
   ]
  },
  {
   "cell_type": "code",
   "execution_count": 79,
   "metadata": {},
   "outputs": [
    {
     "name": "stdout",
     "output_type": "stream",
     "text": [
      "Temperature Data Shape: (8262, 25)\n"
     ]
    }
   ],
   "source": [
    "print(\"Temperature Data Shape:\", temperature_data.shape)"
   ]
  },
  {
   "cell_type": "code",
   "execution_count": 80,
   "metadata": {},
   "outputs": [
    {
     "data": {
      "text/html": [
       "<div>\n",
       "<style scoped>\n",
       "    .dataframe tbody tr th:only-of-type {\n",
       "        vertical-align: middle;\n",
       "    }\n",
       "\n",
       "    .dataframe tbody tr th {\n",
       "        vertical-align: top;\n",
       "    }\n",
       "\n",
       "    .dataframe thead th {\n",
       "        text-align: right;\n",
       "    }\n",
       "</style>\n",
       "<table border=\"1\" class=\"dataframe\">\n",
       "  <thead>\n",
       "    <tr style=\"text-align: right;\">\n",
       "      <th></th>\n",
       "      <th>Entity</th>\n",
       "      <th>Date</th>\n",
       "      <th>Seasonal variation</th>\n",
       "      <th>Combined measurements</th>\n",
       "      <th>Monthly averaged</th>\n",
       "      <th>Annual averaged</th>\n",
       "      <th>sea_temperature_anomaly</th>\n",
       "      <th>Sea surface temp (lower-bound)</th>\n",
       "      <th>Sea surface temp (upper-bound)</th>\n",
       "      <th>Monthly pH measurement</th>\n",
       "      <th>Annual average</th>\n",
       "      <th>Temperature anomaly</th>\n",
       "      <th>Church &amp; White</th>\n",
       "      <th>University of Hawaii</th>\n",
       "      <th>Average</th>\n",
       "      <th>arctic_sea_ice_osisaf</th>\n",
       "      <th>Monthly averaged.1</th>\n",
       "      <th>Annual averaged.1</th>\n",
       "      <th>Monthly averaged.2</th>\n",
       "      <th>Annual averaged.2</th>\n",
       "      <th>Snow cover</th>\n",
       "      <th>Annual average.1</th>\n",
       "      <th>sea_ice_extent</th>\n",
       "      <th>ocean_heat_content_2000m</th>\n",
       "      <th>ocean_heat_content_700m</th>\n",
       "    </tr>\n",
       "  </thead>\n",
       "  <tbody>\n",
       "    <tr>\n",
       "      <th>0</th>\n",
       "      <td>Antarctica</td>\n",
       "      <td>1992-01-01</td>\n",
       "      <td>NaN</td>\n",
       "      <td>418.31036</td>\n",
       "      <td>NaN</td>\n",
       "      <td>NaN</td>\n",
       "      <td>NaN</td>\n",
       "      <td>NaN</td>\n",
       "      <td>NaN</td>\n",
       "      <td>NaN</td>\n",
       "      <td>NaN</td>\n",
       "      <td>NaN</td>\n",
       "      <td>NaN</td>\n",
       "      <td>NaN</td>\n",
       "      <td>NaN</td>\n",
       "      <td>NaN</td>\n",
       "      <td>NaN</td>\n",
       "      <td>NaN</td>\n",
       "      <td>NaN</td>\n",
       "      <td>NaN</td>\n",
       "      <td>NaN</td>\n",
       "      <td>NaN</td>\n",
       "      <td>NaN</td>\n",
       "      <td>NaN</td>\n",
       "      <td>NaN</td>\n",
       "    </tr>\n",
       "    <tr>\n",
       "      <th>1</th>\n",
       "      <td>Antarctica</td>\n",
       "      <td>1992-01-31</td>\n",
       "      <td>NaN</td>\n",
       "      <td>425.37700</td>\n",
       "      <td>NaN</td>\n",
       "      <td>NaN</td>\n",
       "      <td>NaN</td>\n",
       "      <td>NaN</td>\n",
       "      <td>NaN</td>\n",
       "      <td>NaN</td>\n",
       "      <td>NaN</td>\n",
       "      <td>NaN</td>\n",
       "      <td>NaN</td>\n",
       "      <td>NaN</td>\n",
       "      <td>NaN</td>\n",
       "      <td>NaN</td>\n",
       "      <td>NaN</td>\n",
       "      <td>NaN</td>\n",
       "      <td>NaN</td>\n",
       "      <td>NaN</td>\n",
       "      <td>NaN</td>\n",
       "      <td>NaN</td>\n",
       "      <td>NaN</td>\n",
       "      <td>NaN</td>\n",
       "      <td>NaN</td>\n",
       "    </tr>\n",
       "    <tr>\n",
       "      <th>2</th>\n",
       "      <td>Antarctica</td>\n",
       "      <td>1992-03-01</td>\n",
       "      <td>NaN</td>\n",
       "      <td>433.55200</td>\n",
       "      <td>NaN</td>\n",
       "      <td>NaN</td>\n",
       "      <td>NaN</td>\n",
       "      <td>NaN</td>\n",
       "      <td>NaN</td>\n",
       "      <td>NaN</td>\n",
       "      <td>NaN</td>\n",
       "      <td>NaN</td>\n",
       "      <td>NaN</td>\n",
       "      <td>NaN</td>\n",
       "      <td>NaN</td>\n",
       "      <td>NaN</td>\n",
       "      <td>NaN</td>\n",
       "      <td>NaN</td>\n",
       "      <td>NaN</td>\n",
       "      <td>NaN</td>\n",
       "      <td>NaN</td>\n",
       "      <td>NaN</td>\n",
       "      <td>NaN</td>\n",
       "      <td>NaN</td>\n",
       "      <td>NaN</td>\n",
       "    </tr>\n",
       "    <tr>\n",
       "      <th>3</th>\n",
       "      <td>Antarctica</td>\n",
       "      <td>1992-04-01</td>\n",
       "      <td>NaN</td>\n",
       "      <td>424.49683</td>\n",
       "      <td>NaN</td>\n",
       "      <td>NaN</td>\n",
       "      <td>NaN</td>\n",
       "      <td>NaN</td>\n",
       "      <td>NaN</td>\n",
       "      <td>NaN</td>\n",
       "      <td>NaN</td>\n",
       "      <td>NaN</td>\n",
       "      <td>NaN</td>\n",
       "      <td>NaN</td>\n",
       "      <td>NaN</td>\n",
       "      <td>NaN</td>\n",
       "      <td>NaN</td>\n",
       "      <td>NaN</td>\n",
       "      <td>NaN</td>\n",
       "      <td>NaN</td>\n",
       "      <td>NaN</td>\n",
       "      <td>NaN</td>\n",
       "      <td>NaN</td>\n",
       "      <td>NaN</td>\n",
       "      <td>NaN</td>\n",
       "    </tr>\n",
       "    <tr>\n",
       "      <th>4</th>\n",
       "      <td>Antarctica</td>\n",
       "      <td>1992-05-01</td>\n",
       "      <td>NaN</td>\n",
       "      <td>423.36273</td>\n",
       "      <td>NaN</td>\n",
       "      <td>NaN</td>\n",
       "      <td>NaN</td>\n",
       "      <td>NaN</td>\n",
       "      <td>NaN</td>\n",
       "      <td>NaN</td>\n",
       "      <td>NaN</td>\n",
       "      <td>NaN</td>\n",
       "      <td>NaN</td>\n",
       "      <td>NaN</td>\n",
       "      <td>NaN</td>\n",
       "      <td>NaN</td>\n",
       "      <td>NaN</td>\n",
       "      <td>NaN</td>\n",
       "      <td>NaN</td>\n",
       "      <td>NaN</td>\n",
       "      <td>NaN</td>\n",
       "      <td>NaN</td>\n",
       "      <td>NaN</td>\n",
       "      <td>NaN</td>\n",
       "      <td>NaN</td>\n",
       "    </tr>\n",
       "  </tbody>\n",
       "</table>\n",
       "</div>"
      ],
      "text/plain": [
       "       Entity        Date  Seasonal variation  Combined measurements  \\\n",
       "0  Antarctica  1992-01-01                 NaN              418.31036   \n",
       "1  Antarctica  1992-01-31                 NaN              425.37700   \n",
       "2  Antarctica  1992-03-01                 NaN              433.55200   \n",
       "3  Antarctica  1992-04-01                 NaN              424.49683   \n",
       "4  Antarctica  1992-05-01                 NaN              423.36273   \n",
       "\n",
       "   Monthly averaged  Annual averaged  sea_temperature_anomaly  \\\n",
       "0               NaN              NaN                      NaN   \n",
       "1               NaN              NaN                      NaN   \n",
       "2               NaN              NaN                      NaN   \n",
       "3               NaN              NaN                      NaN   \n",
       "4               NaN              NaN                      NaN   \n",
       "\n",
       "   Sea surface temp (lower-bound)  Sea surface temp (upper-bound)  \\\n",
       "0                             NaN                             NaN   \n",
       "1                             NaN                             NaN   \n",
       "2                             NaN                             NaN   \n",
       "3                             NaN                             NaN   \n",
       "4                             NaN                             NaN   \n",
       "\n",
       "   Monthly pH measurement  Annual average  Temperature anomaly  \\\n",
       "0                     NaN             NaN                  NaN   \n",
       "1                     NaN             NaN                  NaN   \n",
       "2                     NaN             NaN                  NaN   \n",
       "3                     NaN             NaN                  NaN   \n",
       "4                     NaN             NaN                  NaN   \n",
       "\n",
       "   Church & White  University of Hawaii  Average  arctic_sea_ice_osisaf  \\\n",
       "0             NaN                   NaN      NaN                    NaN   \n",
       "1             NaN                   NaN      NaN                    NaN   \n",
       "2             NaN                   NaN      NaN                    NaN   \n",
       "3             NaN                   NaN      NaN                    NaN   \n",
       "4             NaN                   NaN      NaN                    NaN   \n",
       "\n",
       "   Monthly averaged.1  Annual averaged.1  Monthly averaged.2  \\\n",
       "0                 NaN                NaN                 NaN   \n",
       "1                 NaN                NaN                 NaN   \n",
       "2                 NaN                NaN                 NaN   \n",
       "3                 NaN                NaN                 NaN   \n",
       "4                 NaN                NaN                 NaN   \n",
       "\n",
       "   Annual averaged.2  Snow cover  Annual average.1  sea_ice_extent  \\\n",
       "0                NaN         NaN               NaN             NaN   \n",
       "1                NaN         NaN               NaN             NaN   \n",
       "2                NaN         NaN               NaN             NaN   \n",
       "3                NaN         NaN               NaN             NaN   \n",
       "4                NaN         NaN               NaN             NaN   \n",
       "\n",
       "   ocean_heat_content_2000m  ocean_heat_content_700m  \n",
       "0                       NaN                      NaN  \n",
       "1                       NaN                      NaN  \n",
       "2                       NaN                      NaN  \n",
       "3                       NaN                      NaN  \n",
       "4                       NaN                      NaN  "
      ]
     },
     "execution_count": 80,
     "metadata": {},
     "output_type": "execute_result"
    }
   ],
   "source": [
    "co2_data.head()"
   ]
  },
  {
   "cell_type": "code",
   "execution_count": 81,
   "metadata": {},
   "outputs": [
    {
     "data": {
      "text/plain": [
       "Index(['Entity', 'Date', 'Seasonal variation', 'Combined measurements',\n",
       "       'Monthly averaged', 'Annual averaged', 'sea_temperature_anomaly',\n",
       "       'Sea surface temp (lower-bound)', 'Sea surface temp (upper-bound)',\n",
       "       'Monthly pH measurement', 'Annual average', 'Temperature anomaly',\n",
       "       'Church & White', 'University of Hawaii', 'Average',\n",
       "       'arctic_sea_ice_osisaf', 'Monthly averaged.1', 'Annual averaged.1',\n",
       "       'Monthly averaged.2', 'Annual averaged.2', 'Snow cover',\n",
       "       'Annual average.1', 'sea_ice_extent', 'ocean_heat_content_2000m',\n",
       "       'ocean_heat_content_700m'],\n",
       "      dtype='object')"
      ]
     },
     "execution_count": 81,
     "metadata": {},
     "output_type": "execute_result"
    }
   ],
   "source": [
    "co2_data.columns"
   ]
  },
  {
   "cell_type": "code",
   "execution_count": 82,
   "metadata": {},
   "outputs": [
    {
     "data": {
      "text/html": [
       "<div>\n",
       "<style scoped>\n",
       "    .dataframe tbody tr th:only-of-type {\n",
       "        vertical-align: middle;\n",
       "    }\n",
       "\n",
       "    .dataframe tbody tr th {\n",
       "        vertical-align: top;\n",
       "    }\n",
       "\n",
       "    .dataframe thead th {\n",
       "        text-align: right;\n",
       "    }\n",
       "</style>\n",
       "<table border=\"1\" class=\"dataframe\">\n",
       "  <thead>\n",
       "    <tr style=\"text-align: right;\">\n",
       "      <th></th>\n",
       "      <th>Entity</th>\n",
       "      <th>Date</th>\n",
       "      <th>Seasonal variation</th>\n",
       "      <th>Combined measurements</th>\n",
       "      <th>Monthly averaged</th>\n",
       "      <th>Annual averaged</th>\n",
       "      <th>sea_temperature_anomaly</th>\n",
       "      <th>Sea surface temp (lower-bound)</th>\n",
       "      <th>Sea surface temp (upper-bound)</th>\n",
       "      <th>Monthly pH measurement</th>\n",
       "      <th>Annual average</th>\n",
       "      <th>Temperature anomaly</th>\n",
       "      <th>Church &amp; White</th>\n",
       "      <th>University of Hawaii</th>\n",
       "      <th>Average</th>\n",
       "      <th>arctic_sea_ice_osisaf</th>\n",
       "      <th>Monthly averaged.1</th>\n",
       "      <th>Annual averaged.1</th>\n",
       "      <th>Monthly averaged.2</th>\n",
       "      <th>Annual averaged.2</th>\n",
       "      <th>Snow cover</th>\n",
       "      <th>Annual average.1</th>\n",
       "      <th>sea_ice_extent</th>\n",
       "      <th>ocean_heat_content_2000m</th>\n",
       "      <th>ocean_heat_content_700m</th>\n",
       "    </tr>\n",
       "  </thead>\n",
       "  <tbody>\n",
       "    <tr>\n",
       "      <th>0</th>\n",
       "      <td>Antarctica</td>\n",
       "      <td>1992-01-01</td>\n",
       "      <td>NaN</td>\n",
       "      <td>418.31036</td>\n",
       "      <td>NaN</td>\n",
       "      <td>NaN</td>\n",
       "      <td>NaN</td>\n",
       "      <td>NaN</td>\n",
       "      <td>NaN</td>\n",
       "      <td>NaN</td>\n",
       "      <td>NaN</td>\n",
       "      <td>NaN</td>\n",
       "      <td>NaN</td>\n",
       "      <td>NaN</td>\n",
       "      <td>NaN</td>\n",
       "      <td>NaN</td>\n",
       "      <td>NaN</td>\n",
       "      <td>NaN</td>\n",
       "      <td>NaN</td>\n",
       "      <td>NaN</td>\n",
       "      <td>NaN</td>\n",
       "      <td>NaN</td>\n",
       "      <td>NaN</td>\n",
       "      <td>NaN</td>\n",
       "      <td>NaN</td>\n",
       "    </tr>\n",
       "    <tr>\n",
       "      <th>1</th>\n",
       "      <td>Antarctica</td>\n",
       "      <td>1992-01-31</td>\n",
       "      <td>NaN</td>\n",
       "      <td>425.37700</td>\n",
       "      <td>NaN</td>\n",
       "      <td>NaN</td>\n",
       "      <td>NaN</td>\n",
       "      <td>NaN</td>\n",
       "      <td>NaN</td>\n",
       "      <td>NaN</td>\n",
       "      <td>NaN</td>\n",
       "      <td>NaN</td>\n",
       "      <td>NaN</td>\n",
       "      <td>NaN</td>\n",
       "      <td>NaN</td>\n",
       "      <td>NaN</td>\n",
       "      <td>NaN</td>\n",
       "      <td>NaN</td>\n",
       "      <td>NaN</td>\n",
       "      <td>NaN</td>\n",
       "      <td>NaN</td>\n",
       "      <td>NaN</td>\n",
       "      <td>NaN</td>\n",
       "      <td>NaN</td>\n",
       "      <td>NaN</td>\n",
       "    </tr>\n",
       "    <tr>\n",
       "      <th>2</th>\n",
       "      <td>Antarctica</td>\n",
       "      <td>1992-03-01</td>\n",
       "      <td>NaN</td>\n",
       "      <td>433.55200</td>\n",
       "      <td>NaN</td>\n",
       "      <td>NaN</td>\n",
       "      <td>NaN</td>\n",
       "      <td>NaN</td>\n",
       "      <td>NaN</td>\n",
       "      <td>NaN</td>\n",
       "      <td>NaN</td>\n",
       "      <td>NaN</td>\n",
       "      <td>NaN</td>\n",
       "      <td>NaN</td>\n",
       "      <td>NaN</td>\n",
       "      <td>NaN</td>\n",
       "      <td>NaN</td>\n",
       "      <td>NaN</td>\n",
       "      <td>NaN</td>\n",
       "      <td>NaN</td>\n",
       "      <td>NaN</td>\n",
       "      <td>NaN</td>\n",
       "      <td>NaN</td>\n",
       "      <td>NaN</td>\n",
       "      <td>NaN</td>\n",
       "    </tr>\n",
       "    <tr>\n",
       "      <th>3</th>\n",
       "      <td>Antarctica</td>\n",
       "      <td>1992-04-01</td>\n",
       "      <td>NaN</td>\n",
       "      <td>424.49683</td>\n",
       "      <td>NaN</td>\n",
       "      <td>NaN</td>\n",
       "      <td>NaN</td>\n",
       "      <td>NaN</td>\n",
       "      <td>NaN</td>\n",
       "      <td>NaN</td>\n",
       "      <td>NaN</td>\n",
       "      <td>NaN</td>\n",
       "      <td>NaN</td>\n",
       "      <td>NaN</td>\n",
       "      <td>NaN</td>\n",
       "      <td>NaN</td>\n",
       "      <td>NaN</td>\n",
       "      <td>NaN</td>\n",
       "      <td>NaN</td>\n",
       "      <td>NaN</td>\n",
       "      <td>NaN</td>\n",
       "      <td>NaN</td>\n",
       "      <td>NaN</td>\n",
       "      <td>NaN</td>\n",
       "      <td>NaN</td>\n",
       "    </tr>\n",
       "    <tr>\n",
       "      <th>4</th>\n",
       "      <td>Antarctica</td>\n",
       "      <td>1992-05-01</td>\n",
       "      <td>NaN</td>\n",
       "      <td>423.36273</td>\n",
       "      <td>NaN</td>\n",
       "      <td>NaN</td>\n",
       "      <td>NaN</td>\n",
       "      <td>NaN</td>\n",
       "      <td>NaN</td>\n",
       "      <td>NaN</td>\n",
       "      <td>NaN</td>\n",
       "      <td>NaN</td>\n",
       "      <td>NaN</td>\n",
       "      <td>NaN</td>\n",
       "      <td>NaN</td>\n",
       "      <td>NaN</td>\n",
       "      <td>NaN</td>\n",
       "      <td>NaN</td>\n",
       "      <td>NaN</td>\n",
       "      <td>NaN</td>\n",
       "      <td>NaN</td>\n",
       "      <td>NaN</td>\n",
       "      <td>NaN</td>\n",
       "      <td>NaN</td>\n",
       "      <td>NaN</td>\n",
       "    </tr>\n",
       "  </tbody>\n",
       "</table>\n",
       "</div>"
      ],
      "text/plain": [
       "       Entity        Date  Seasonal variation  Combined measurements  \\\n",
       "0  Antarctica  1992-01-01                 NaN              418.31036   \n",
       "1  Antarctica  1992-01-31                 NaN              425.37700   \n",
       "2  Antarctica  1992-03-01                 NaN              433.55200   \n",
       "3  Antarctica  1992-04-01                 NaN              424.49683   \n",
       "4  Antarctica  1992-05-01                 NaN              423.36273   \n",
       "\n",
       "   Monthly averaged  Annual averaged  sea_temperature_anomaly  \\\n",
       "0               NaN              NaN                      NaN   \n",
       "1               NaN              NaN                      NaN   \n",
       "2               NaN              NaN                      NaN   \n",
       "3               NaN              NaN                      NaN   \n",
       "4               NaN              NaN                      NaN   \n",
       "\n",
       "   Sea surface temp (lower-bound)  Sea surface temp (upper-bound)  \\\n",
       "0                             NaN                             NaN   \n",
       "1                             NaN                             NaN   \n",
       "2                             NaN                             NaN   \n",
       "3                             NaN                             NaN   \n",
       "4                             NaN                             NaN   \n",
       "\n",
       "   Monthly pH measurement  Annual average  Temperature anomaly  \\\n",
       "0                     NaN             NaN                  NaN   \n",
       "1                     NaN             NaN                  NaN   \n",
       "2                     NaN             NaN                  NaN   \n",
       "3                     NaN             NaN                  NaN   \n",
       "4                     NaN             NaN                  NaN   \n",
       "\n",
       "   Church & White  University of Hawaii  Average  arctic_sea_ice_osisaf  \\\n",
       "0             NaN                   NaN      NaN                    NaN   \n",
       "1             NaN                   NaN      NaN                    NaN   \n",
       "2             NaN                   NaN      NaN                    NaN   \n",
       "3             NaN                   NaN      NaN                    NaN   \n",
       "4             NaN                   NaN      NaN                    NaN   \n",
       "\n",
       "   Monthly averaged.1  Annual averaged.1  Monthly averaged.2  \\\n",
       "0                 NaN                NaN                 NaN   \n",
       "1                 NaN                NaN                 NaN   \n",
       "2                 NaN                NaN                 NaN   \n",
       "3                 NaN                NaN                 NaN   \n",
       "4                 NaN                NaN                 NaN   \n",
       "\n",
       "   Annual averaged.2  Snow cover  Annual average.1  sea_ice_extent  \\\n",
       "0                NaN         NaN               NaN             NaN   \n",
       "1                NaN         NaN               NaN             NaN   \n",
       "2                NaN         NaN               NaN             NaN   \n",
       "3                NaN         NaN               NaN             NaN   \n",
       "4                NaN         NaN               NaN             NaN   \n",
       "\n",
       "   ocean_heat_content_2000m  ocean_heat_content_700m  \n",
       "0                       NaN                      NaN  \n",
       "1                       NaN                      NaN  \n",
       "2                       NaN                      NaN  \n",
       "3                       NaN                      NaN  \n",
       "4                       NaN                      NaN  "
      ]
     },
     "execution_count": 82,
     "metadata": {},
     "output_type": "execute_result"
    }
   ],
   "source": [
    "temperature_data.head()"
   ]
  },
  {
   "cell_type": "code",
   "execution_count": 83,
   "metadata": {},
   "outputs": [
    {
     "data": {
      "text/plain": [
       "Index(['Entity', 'Date', 'Seasonal variation', 'Combined measurements',\n",
       "       'Monthly averaged', 'Annual averaged', 'sea_temperature_anomaly',\n",
       "       'Sea surface temp (lower-bound)', 'Sea surface temp (upper-bound)',\n",
       "       'Monthly pH measurement', 'Annual average', 'Temperature anomaly',\n",
       "       'Church & White', 'University of Hawaii', 'Average',\n",
       "       'arctic_sea_ice_osisaf', 'Monthly averaged.1', 'Annual averaged.1',\n",
       "       'Monthly averaged.2', 'Annual averaged.2', 'Snow cover',\n",
       "       'Annual average.1', 'sea_ice_extent', 'ocean_heat_content_2000m',\n",
       "       'ocean_heat_content_700m'],\n",
       "      dtype='object')"
      ]
     },
     "execution_count": 83,
     "metadata": {},
     "output_type": "execute_result"
    }
   ],
   "source": [
    "temperature_data.columns"
   ]
  },
  {
   "cell_type": "code",
   "execution_count": 84,
   "metadata": {},
   "outputs": [],
   "source": [
    "# Select relevant columns\n",
    "co2_data = co2_data[['Date', 'Combined measurements']]\n",
    "temperature_data = temperature_data[['Date', 'Temperature anomaly']]"
   ]
  },
  {
   "cell_type": "code",
   "execution_count": 85,
   "metadata": {},
   "outputs": [],
   "source": [
    "# Rename columns for clarity\n",
    "co2_data.rename(columns={'Combined measurements': 'CO2_concentration'}, inplace=True)\n",
    "temperature_data.rename(columns={'Temperature anomaly': 'Temperature_anomaly'}, inplace=True)"
   ]
  },
  {
   "cell_type": "code",
   "execution_count": 86,
   "metadata": {},
   "outputs": [],
   "source": [
    "# Convert date columns to datetime format\n",
    "co2_data['Date'] = pd.to_datetime(co2_data['Date'])\n",
    "temperature_data['Date'] = pd.to_datetime(temperature_data['Date'])\n"
   ]
  },
  {
   "cell_type": "code",
   "execution_count": 87,
   "metadata": {},
   "outputs": [
    {
     "name": "stderr",
     "output_type": "stream",
     "text": [
      "C:\\Users\\ellio\\AppData\\Local\\Temp\\ipykernel_33480\\2306006605.py:5: FutureWarning: DataFrame.fillna with 'method' is deprecated and will raise in a future version. Use obj.ffill() or obj.bfill() instead.\n",
      "  merged_data = merged_data.fillna(method='pad')\n"
     ]
    },
    {
     "data": {
      "text/html": [
       "<div>\n",
       "<style scoped>\n",
       "    .dataframe tbody tr th:only-of-type {\n",
       "        vertical-align: middle;\n",
       "    }\n",
       "\n",
       "    .dataframe tbody tr th {\n",
       "        vertical-align: top;\n",
       "    }\n",
       "\n",
       "    .dataframe thead th {\n",
       "        text-align: right;\n",
       "    }\n",
       "</style>\n",
       "<table border=\"1\" class=\"dataframe\">\n",
       "  <thead>\n",
       "    <tr style=\"text-align: right;\">\n",
       "      <th></th>\n",
       "      <th>Date</th>\n",
       "      <th>CO2_concentration</th>\n",
       "      <th>Temperature_anomaly</th>\n",
       "    </tr>\n",
       "  </thead>\n",
       "  <tbody>\n",
       "    <tr>\n",
       "      <th>0</th>\n",
       "      <td>1992-01-01</td>\n",
       "      <td>418.31036</td>\n",
       "      <td>NaN</td>\n",
       "    </tr>\n",
       "    <tr>\n",
       "      <th>1</th>\n",
       "      <td>1992-01-01</td>\n",
       "      <td>418.31036</td>\n",
       "      <td>NaN</td>\n",
       "    </tr>\n",
       "    <tr>\n",
       "      <th>2</th>\n",
       "      <td>1992-01-01</td>\n",
       "      <td>395.36554</td>\n",
       "      <td>NaN</td>\n",
       "    </tr>\n",
       "    <tr>\n",
       "      <th>3</th>\n",
       "      <td>1992-01-01</td>\n",
       "      <td>395.36554</td>\n",
       "      <td>NaN</td>\n",
       "    </tr>\n",
       "    <tr>\n",
       "      <th>4</th>\n",
       "      <td>1992-01-31</td>\n",
       "      <td>425.37700</td>\n",
       "      <td>NaN</td>\n",
       "    </tr>\n",
       "  </tbody>\n",
       "</table>\n",
       "</div>"
      ],
      "text/plain": [
       "        Date  CO2_concentration  Temperature_anomaly\n",
       "0 1992-01-01          418.31036                  NaN\n",
       "1 1992-01-01          418.31036                  NaN\n",
       "2 1992-01-01          395.36554                  NaN\n",
       "3 1992-01-01          395.36554                  NaN\n",
       "4 1992-01-31          425.37700                  NaN"
      ]
     },
     "execution_count": 87,
     "metadata": {},
     "output_type": "execute_result"
    }
   ],
   "source": [
    "# Merge datasets on date column\n",
    "merged_data = pd.merge(co2_data, temperature_data, on='Date')\n",
    "\n",
    "# Handle missing values using forward fill method\n",
    "merged_data = merged_data.fillna(method='pad')\n",
    "\n",
    "# Display the first few rows of the merged dataset\n",
    "merged_data.head()\n"
   ]
  },
  {
   "cell_type": "code",
   "execution_count": 88,
   "metadata": {},
   "outputs": [
    {
     "name": "stdout",
     "output_type": "stream",
     "text": [
      "Pearson Correlation: 0.15319357426294788\n"
     ]
    }
   ],
   "source": [
    "correlation = merged_data['CO2_concentration'].corr(merged_data['Temperature_anomaly'])\n",
    "print(f'Pearson Correlation: {correlation}')"
   ]
  },
  {
   "cell_type": "code",
   "execution_count": 89,
   "metadata": {},
   "outputs": [
    {
     "data": {
      "image/png": "[encoded data removed]",
      "text/plain": [
       "<Figure size 640x480 with 1 Axes>"
      ]
     },
     "metadata": {},
     "output_type": "display_data"
    }
   ],
   "source": [
    "import matplotlib.pyplot as plt\n",
    "plt.scatter(merged_data['CO2_concentration'], merged_data['Temperature_anomaly'])\n",
    "plt.xlabel('CO2 Concentration')\n",
    "plt.ylabel('Temperature Anomaly')\n",
    "plt.title('Correlation between CO2 Concentration and Temperature Anomaly')\n",
    "plt.show()"
   ]
  },
  {
   "cell_type": "code",
   "execution_count": 90,
   "metadata": {},
   "outputs": [
    {
     "data": {
      "text/plain": [
       "<matplotlib.legend.Legend at 0x1dbaac57890>"
      ]
     },
     "execution_count": 90,
     "metadata": {},
     "output_type": "execute_result"
    },
    {
     "data": {
      "image/png": "[encoded data removed]",
      "text/plain": [
       "<Figure size 1400x700 with 1 Axes>"
      ]
     },
     "metadata": {},
     "output_type": "display_data"
    }
   ],
   "source": [
    "# Time series plot of CO2 concentration and temperature anomaly\n",
    "plt.figure(figsize=(14, 7))\n",
    "plt.plot(merged_data['Date'], merged_data['CO2_concentration'], label='CO2 Concentration')\n",
    "plt.plot(merged_data['Date'], merged_data['Temperature_anomaly'], label='Temperature Anomaly')\n",
    "plt.xlabel('Date')\n",
    "plt.ylabel('Values')\n",
    "plt.title('Time Series of CO2 Concentration and Temperature Anomaly')\n",
    "plt.legend()\n",
    "plt.show()\n"
   ]
  },
  {
   "cell_type": "code",
   "execution_count": 91,
   "metadata": {},
   "outputs": [],
   "source": [
    "from sklearn.linear_model import LinearRegression\n",
    "import numpy as np"
   ]
  },
  {
   "cell_type": "code",
   "execution_count": 92,
   "metadata": {},
   "outputs": [
    {
     "name": "stdout",
     "output_type": "stream",
     "text": [
      "NaN values found in y, filling with mean value\n"
     ]
    },
    {
     "data": {
      "image/png": "[encoded data removed]",
      "text/plain": [
       "<Figure size 1000x600 with 1 Axes>"
      ]
     },
     "metadata": {},
     "output_type": "display_data"
    },
    {
     "name": "stdout",
     "output_type": "stream",
     "text": [
      "Intercept: 0.6201287496569947\n",
      "Slope: 7.689208871227777e-05\n"
     ]
    }
   ],
   "source": [
    "# Preparing the data for regression\n",
    "X = merged_data['CO2_concentration'].values.reshape(-1, 1)\n",
    "y = merged_data['Temperature_anomaly'].values\n",
    "\n",
    "# Checking for NaN values in y\n",
    "if np.isnan(y).any():\n",
    "    print(\"NaN values found in y, filling with mean value\")\n",
    "    y = np.nan_to_num(y, nan=np.nanmean(y))\n",
    "\n",
    "# Perform linear regression\n",
    "model = LinearRegression()\n",
    "model.fit(X, y)\n",
    "y_pred = model.predict(X)\n",
    "\n",
    "# Plot the regression line\n",
    "plt.figure(figsize=(10, 6))\n",
    "plt.scatter(X, y, label='Data points')\n",
    "plt.plot(X, y_pred, color='red', label='Regression line')\n",
    "plt.xlabel('CO2 Concentration')\n",
    "plt.ylabel('Temperature Anomaly')\n",
    "plt.title('Regression Analysis')\n",
    "plt.legend()\n",
    "plt.show()\n",
    "\n",
    "# Print regression results\n",
    "print(f'Intercept: {model.intercept_}')\n",
    "print(f'Slope: {model.coef_[0]}')"
   ]
  },
  {
   "cell_type": "code",
   "execution_count": null,
   "metadata": {},
   "outputs": [],
   "source": [
    "\n"
   ]
  },
  {
   "cell_type": "code",
   "execution_count": 93,
   "metadata": {},
   "outputs": [],
   "source": [
    "# Constants\n",
    "correlation_coefficient = 0.1532  # Updated Pearson correlation value\n",
    "current_co2_concentration_ppm = 400  # current CO2 concentration in ppm\n",
    "total_mass_atmosphere = 5.15 * 10**21  # in grams"
   ]
  },
  {
   "cell_type": "code",
   "execution_count": 94,
   "metadata": {},
   "outputs": [],
   "source": [
    "# lifecycle GHG values in tons of CO2 equivalent\n",
    "lifecycle_ghg_icev_tons = 46.1\n",
    "lifecycle_ghg_phev_tons = 42.1\n",
    "lifecycle_ghg_bev_tons = 27.2"
   ]
  },
  {
   "cell_type": "code",
   "execution_count": 95,
   "metadata": {},
   "outputs": [],
   "source": [
    "# Convert CO2 emissions to grams\n",
    "lifecycle_ghg_icev_grams = lifecycle_ghg_icev_tons * 1_000_000\n",
    "lifecycle_ghg_phev_grams = lifecycle_ghg_phev_tons * 1_000_000\n",
    "lifecycle_ghg_bev_grams = lifecycle_ghg_bev_tons * 1_000_000"
   ]
  },
  {
   "cell_type": "code",
   "execution_count": 96,
   "metadata": {},
   "outputs": [],
   "source": [
    "# Calculate fraction of atmosphere for each vehicle type\n",
    "fraction_icev = lifecycle_ghg_icev_grams / total_mass_atmosphere\n",
    "fraction_phev = lifecycle_ghg_phev_grams / total_mass_atmosphere\n",
    "fraction_bev = lifecycle_ghg_bev_grams / total_mass_atmosphere"
   ]
  },
  {
   "cell_type": "code",
   "execution_count": 97,
   "metadata": {},
   "outputs": [],
   "source": [
    "# Convert fraction to ppm\n",
    "impact_icev_ppm = fraction_icev * 10**6\n",
    "impact_phev_ppm = fraction_phev * 10**6\n",
    "impact_bev_ppm = fraction_bev * 10**6"
   ]
  },
  {
   "cell_type": "code",
   "execution_count": 98,
   "metadata": {},
   "outputs": [],
   "source": [
    "# Calculate change in temperature anomaly\n",
    "def calc_temp_anomaly_impact(impact_ppm, current_co2_ppm, correlation_coefficient):\n",
    "    return correlation_coefficient * (impact_ppm / current_co2_ppm)\n",
    "\n",
    "temp_anomaly_impact_icev = calc_temp_anomaly_impact(impact_icev_ppm, current_co2_concentration_ppm, correlation_coefficient)\n",
    "temp_anomaly_impact_phev = calc_temp_anomaly_impact(impact_phev_ppm, current_co2_concentration_ppm, correlation_coefficient)\n",
    "temp_anomaly_impact_bev = calc_temp_anomaly_impact(impact_bev_ppm, current_co2_concentration_ppm, correlation_coefficient)"
   ]
  },
  {
   "cell_type": "code",
   "execution_count": 99,
   "metadata": {},
   "outputs": [],
   "source": [
    "# Calculate the reduction in temperature anomaly by switching from ICEV to BEV\n",
    "temp_anomaly_reduction_per_vehicle = temp_anomaly_impact_icev - temp_anomaly_impact_bev"
   ]
  },
  {
   "cell_type": "code",
   "execution_count": 100,
   "metadata": {},
   "outputs": [],
   "source": [
    "# Determine number of transitions needed to see a measurable impact (0.001°C)\n",
    "measurable_impact_threshold = 0.0001\n",
    "num_transitions_needed = measurable_impact_threshold / temp_anomaly_reduction_per_vehicle"
   ]
  },
  {
   "cell_type": "code",
   "execution_count": 101,
   "metadata": {},
   "outputs": [
    {
     "name": "stdout",
     "output_type": "stream",
     "text": [
      "Temperature anomaly impact of ICEV: 3.428407766990291e-12°C\n",
      "Temperature anomaly impact of PHEV: 3.130932038834951e-12°C\n",
      "Temperature anomaly impact of BEV: 2.0228349514563106e-12°C\n",
      "Temperature anomaly reduction per vehicle switching from ICEV to BEV: 1.4055728155339802e-12°C\n",
      "Number of transitions from ICEV to BEV needed to see a measurable impact: 71145371.40646803\n"
     ]
    }
   ],
   "source": [
    "# Display results\n",
    "print(f\"Temperature anomaly impact of ICEV: {temp_anomaly_impact_icev}°C\")\n",
    "print(f\"Temperature anomaly impact of PHEV: {temp_anomaly_impact_phev}°C\")\n",
    "print(f\"Temperature anomaly impact of BEV: {temp_anomaly_impact_bev}°C\")\n",
    "print(f\"Temperature anomaly reduction per vehicle switching from ICEV to BEV: {temp_anomaly_reduction_per_vehicle}°C\")\n",
    "print(f\"Number of transitions from ICEV to BEV needed to see a measurable impact: {num_transitions_needed}\")"
   ]
  },
  {
   "cell_type": "code",
   "execution_count": null,
   "metadata": {},
   "outputs": [],
   "source": []
  }
 ],
 "metadata": {
  "kernelspec": {
   "display_name": "base",
   "language": "python",
   "name": "python3"
  },
  "language_info": {
   "codemirror_mode": {
    "name": "ipython",
    "version": 3
   },
   "file_extension": ".py",
   "mimetype": "text/x-python",
   "name": "python",
   "nbconvert_exporter": "python",
   "pygments_lexer": "ipython3",
   "version": "3.11.7"
  }
 },
 "nbformat": 4,
 "nbformat_minor": 2
}
